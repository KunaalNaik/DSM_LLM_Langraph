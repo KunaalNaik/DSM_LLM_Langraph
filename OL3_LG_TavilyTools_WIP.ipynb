{
 "cells": [
  {
   "cell_type": "markdown",
   "id": "5ecd9da4-91e6-42d7-af27-70cc1d9b9e63",
   "metadata": {},
   "source": [
    "# Code 1 - Basics\n",
    "- Ollama\n",
    "- Langraph"
   ]
  },
  {
   "cell_type": "markdown",
   "id": "24658580-d988-4b61-a443-47f93dd1f0ff",
   "metadata": {},
   "source": [
    "### Referances\n",
    "- https://langchain-ai.github.io/langgraph/tutorials/introduction/"
   ]
  },
  {
   "cell_type": "markdown",
   "id": "eb64dff3-c8a8-4d14-af81-96ebb996acee",
   "metadata": {},
   "source": [
    "## Step 1 - Import Packages"
   ]
  },
  {
   "cell_type": "markdown",
   "id": "7a3b22f5-134b-4cde-93a9-a95416cbfebf",
   "metadata": {},
   "source": [
    "### Import Packages"
   ]
  },
  {
   "cell_type": "code",
   "execution_count": 10,
   "id": "e26bc9ed-c6e7-47e3-81d5-96456d894aa5",
   "metadata": {},
   "outputs": [],
   "source": [
    "from typing import Annotated\n",
    "\n",
    "from typing_extensions import TypedDict\n",
    "\n",
    "from langgraph.graph import StateGraph, START\n",
    "from langgraph.graph.message import add_messages"
   ]
  },
  {
   "cell_type": "markdown",
   "id": "34800ed9-0d73-4cc2-821e-6621f4704dca",
   "metadata": {},
   "source": [
    "## Step 2 - Install and Import tools"
   ]
  },
  {
   "cell_type": "code",
   "execution_count": 1,
   "id": "c0c8c2c2-b3e2-4e14-9fb6-6bd73696bc3d",
   "metadata": {},
   "outputs": [
    {
     "name": "stderr",
     "output_type": "stream",
     "text": [
      "WARNING: Ignoring invalid distribution ~orch (C:\\Users\\USER\\anaconda3\\envs\\llm082024\\Lib\\site-packages)\n",
      "WARNING: Ignoring invalid distribution ~orch (C:\\Users\\USER\\anaconda3\\envs\\llm082024\\Lib\\site-packages)\n",
      "WARNING: Ignoring invalid distribution ~orch (C:\\Users\\USER\\anaconda3\\envs\\llm082024\\Lib\\site-packages)\n",
      "WARNING: Ignoring invalid distribution ~orch (C:\\Users\\USER\\anaconda3\\envs\\llm082024\\Lib\\site-packages)\n",
      "WARNING: Ignoring invalid distribution ~orch (C:\\Users\\USER\\anaconda3\\envs\\llm082024\\Lib\\site-packages)\n",
      "WARNING: Ignoring invalid distribution ~orch (C:\\Users\\USER\\anaconda3\\envs\\llm082024\\Lib\\site-packages)\n"
     ]
    }
   ],
   "source": [
    "%%capture --no-stderr\n",
    "%pip install -U tavily-python\n",
    "%pip install -U langchain_community"
   ]
  },
  {
   "cell_type": "code",
   "execution_count": 5,
   "id": "699e028f-59eb-476e-9a94-6655892b6d08",
   "metadata": {},
   "outputs": [
    {
     "data": {
      "text/plain": [
       "True"
      ]
     },
     "execution_count": 5,
     "metadata": {},
     "output_type": "execute_result"
    }
   ],
   "source": [
    "import os\n",
    "from dotenv import load_dotenv\n",
    "load_dotenv()"
   ]
  },
  {
   "cell_type": "code",
   "execution_count": 6,
   "id": "b886dfbf-8c17-4a35-a283-62647bfa01af",
   "metadata": {},
   "outputs": [
    {
     "data": {
      "text/plain": [
       "'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'"
      ]
     },
     "execution_count": 6,
     "metadata": {},
     "output_type": "execute_result"
    }
   ],
   "source": [
    "os.getenv(\"TAVILY_API_KEY\")"
   ]
  },
  {
   "cell_type": "markdown",
   "id": "3d88b0a2-8dd8-43cb-b5e2-6791bf6d2392",
   "metadata": {},
   "source": [
    "### Import Tool"
   ]
  },
  {
   "cell_type": "code",
   "execution_count": 7,
   "id": "b8b5de30-df5a-433c-ac2a-c49d6c263fe3",
   "metadata": {},
   "outputs": [],
   "source": [
    "from langchain_community.tools.tavily_search import TavilySearchResults"
   ]
  },
  {
   "cell_type": "markdown",
   "id": "51a43b37-02ff-40ff-86ec-91a73bb9e58e",
   "metadata": {},
   "source": [
    "### Test Tool"
   ]
  },
  {
   "cell_type": "code",
   "execution_count": 19,
   "id": "dccb4990-ba69-459c-9ae4-d3789ee76412",
   "metadata": {},
   "outputs": [
    {
     "data": {
      "text/plain": [
       "[{'url': 'https://adasci.org/a-practical-guide-to-building-ai-agents-with-langgraph/',\n",
       "  'content': 'LangGraph uses a smart graph algorithm that processes information by passing messages between different points, or \"nodes,\" in a network. Each node represents a point that can perform a task. When a node finishes its task, it sends a message to one or more other nodes, performing their own tasks and passing on the results to the next nodes, creating a chain of tasks. This process happens ...'},\n",
       " {'url': 'https://medium.com/@kbdhunga/beginners-guide-to-langgraph-understanding-state-nodes-and-edges-part-1-897e6114fa48',\n",
       "  'content': 'Each node in a LangGraph graph has the ability to access, read, and write to the state. When a node modifies the state, it effectively broadcasts this information to all other nodes within the graph.'}]"
      ]
     },
     "execution_count": 19,
     "metadata": {},
     "output_type": "execute_result"
    }
   ],
   "source": [
    "tool = TavilySearchResults(max_results=2)\n",
    "tools = [tool]\n",
    "tool.invoke(\"What's a 'node' in LangGraph?\")"
   ]
  },
  {
   "cell_type": "markdown",
   "id": "4595e383-7fb4-4357-90aa-434ccdd580e0",
   "metadata": {},
   "source": [
    "## Step 3 - Create Graph"
   ]
  },
  {
   "cell_type": "markdown",
   "id": "8ada9a65-c7ae-4801-b3fd-c3cc62f2ab24",
   "metadata": {},
   "source": [
    "### Create State"
   ]
  },
  {
   "cell_type": "code",
   "execution_count": 11,
   "id": "9e1c5459-34fa-416f-b1c5-a70851f822e4",
   "metadata": {},
   "outputs": [],
   "source": [
    "class State(TypedDict):\n",
    "    messages: Annotated[list, add_messages]\n",
    "\n",
    "graph_builder = StateGraph(State)"
   ]
  },
  {
   "cell_type": "markdown",
   "id": "3d6a4802-10a5-4295-8c6a-392648cbac30",
   "metadata": {},
   "source": [
    "### Add Chat Bot node"
   ]
  },
  {
   "cell_type": "code",
   "execution_count": 16,
   "id": "d6c48bd0-2f54-4143-a2cc-270add7f8aca",
   "metadata": {},
   "outputs": [],
   "source": [
    "#from langchain_ollama.llms import OllamaLLM\n",
    "#llm = OllamaLLM(model=\"llama3.1\")  # mixtral\n",
    "from langchain_community.chat_models import ChatOllama\n",
    "llm = ChatOllama(model=\"llama3.1\")  # mixtral"
   ]
  },
  {
   "cell_type": "code",
   "execution_count": 20,
   "id": "c1cd305f-b846-424c-b8a6-f8ec0b576f38",
   "metadata": {},
   "outputs": [
    {
     "ename": "NotImplementedError",
     "evalue": "",
     "output_type": "error",
     "traceback": [
      "\u001b[1;31m---------------------------------------------------------------------------\u001b[0m",
      "\u001b[1;31mNotImplementedError\u001b[0m                       Traceback (most recent call last)",
      "Cell \u001b[1;32mIn[20], line 1\u001b[0m\n\u001b[1;32m----> 1\u001b[0m llm_with_tools \u001b[38;5;241m=\u001b[39m llm\u001b[38;5;241m.\u001b[39mbind_tools(tools)\n",
      "File \u001b[1;32m~\\anaconda3\\envs\\llm082024\\Lib\\site-packages\\langchain_core\\language_models\\chat_models.py:1134\u001b[0m, in \u001b[0;36mBaseChatModel.bind_tools\u001b[1;34m(self, tools, **kwargs)\u001b[0m\n\u001b[0;32m   1129\u001b[0m \u001b[38;5;28;01mdef\u001b[39;00m \u001b[38;5;21mbind_tools\u001b[39m(\n\u001b[0;32m   1130\u001b[0m     \u001b[38;5;28mself\u001b[39m,\n\u001b[0;32m   1131\u001b[0m     tools: Sequence[Union[Dict[\u001b[38;5;28mstr\u001b[39m, Any], Type, Callable, BaseTool]],\n\u001b[0;32m   1132\u001b[0m     \u001b[38;5;241m*\u001b[39m\u001b[38;5;241m*\u001b[39mkwargs: Any,\n\u001b[0;32m   1133\u001b[0m ) \u001b[38;5;241m-\u001b[39m\u001b[38;5;241m>\u001b[39m Runnable[LanguageModelInput, BaseMessage]:\n\u001b[1;32m-> 1134\u001b[0m     \u001b[38;5;28;01mraise\u001b[39;00m \u001b[38;5;167;01mNotImplementedError\u001b[39;00m()\n",
      "\u001b[1;31mNotImplementedError\u001b[0m: "
     ]
    }
   ],
   "source": [
    "llm_with_tools = llm.bind_tools(tools)"
   ]
  },
  {
   "cell_type": "markdown",
   "id": "96d1f41c-2a78-455a-808b-16657a456e93",
   "metadata": {},
   "source": [
    "### Build Graph"
   ]
  },
  {
   "cell_type": "code",
   "execution_count": 5,
   "id": "c37253d1-0372-40a7-a00c-824646411074",
   "metadata": {},
   "outputs": [],
   "source": [
    "graph_builder.add_edge(START, \"chatbot\")"
   ]
  },
  {
   "cell_type": "code",
   "execution_count": 6,
   "id": "3e09c099-33ac-42bd-886e-af45cb058d10",
   "metadata": {},
   "outputs": [],
   "source": [
    "graph_builder.add_edge(\"chatbot\", END)"
   ]
  },
  {
   "cell_type": "markdown",
   "id": "d863dffb-e93e-485a-8f8a-ebe766b472ab",
   "metadata": {},
   "source": [
    "### Compile Graph"
   ]
  },
  {
   "cell_type": "code",
   "execution_count": 7,
   "id": "399a484f-a74d-437e-85da-815c3f4c3f8e",
   "metadata": {},
   "outputs": [],
   "source": [
    "graph = graph_builder.compile()"
   ]
  },
  {
   "cell_type": "code",
   "execution_count": 13,
   "id": "7d75bd78-0dcd-46dd-8f24-bc14e4ec2c2b",
   "metadata": {},
   "outputs": [
    {
     "data": {
      "image/jpeg": "[encoded data removed]",
      "text/plain": [
       "<IPython.core.display.Image object>"
      ]
     },
     "metadata": {},
     "output_type": "display_data"
    }
   ],
   "source": [
    "from IPython.display import Image, display\n",
    "\n",
    "try:\n",
    "    display(Image(graph.get_graph().draw_mermaid_png()))\n",
    "except Exception:\n",
    "    # This requires some extra dependencies and is optional\n",
    "    pass"
   ]
  },
  {
   "cell_type": "markdown",
   "id": "dff76db1-8ccf-4484-b007-25b9c43ea766",
   "metadata": {},
   "source": [
    "## Step 3 - Execute ChatBot"
   ]
  },
  {
   "cell_type": "code",
   "execution_count": 16,
   "id": "71c902dd-1e12-49f1-a1e8-f780b74ba8f0",
   "metadata": {},
   "outputs": [
    {
     "name": "stdin",
     "output_type": "stream",
     "text": [
      "User:  what is red?\n"
     ]
    },
    {
     "name": "stdout",
     "output_type": "stream",
     "text": [
      "Assistant: ['That\\'s a broad question!\\n\\nRed can be many things, depending on the context. Here are a few examples:\\n\\n* A color: Red is a vibrant and warm color that exists in the visible spectrum of light.\\n* An emotion: Red is often associated with strong emotions like love, passion, anger, or excitement.\\n* A warning sign: In many cultures, red is used as a warning signal, indicating danger, caution, or alarm (e.g., traffic lights, warning signs).\\n* A flavor: Red can also refer to the taste of something, like cherry or strawberry flavors.\\n* A fruit or vegetable: There are many types of fruits and vegetables that are red in color, such as apples, tomatoes, and strawberries.\\n\\nWhich one of these meanings were you thinking of? Or is there another context where \"red\" comes up for you?']\n"
     ]
    },
    {
     "name": "stdin",
     "output_type": "stream",
     "text": [
      "User:  quit\n"
     ]
    },
    {
     "name": "stdout",
     "output_type": "stream",
     "text": [
      "Goodbye!\n"
     ]
    }
   ],
   "source": [
    "while True:\n",
    "    user_input = input(\"User: \")\n",
    "    if user_input.lower() in [\"quit\", \"exit\", \"q\"]:\n",
    "        print(\"Goodbye!\")\n",
    "        break\n",
    "    for event in graph.stream({\"messages\": (\"user\", user_input)}):\n",
    "        for value in event.values():\n",
    "            print(\"Assistant:\", value[\"messages\"])"
   ]
  },
  {
   "cell_type": "markdown",
   "id": "5c180844-18f7-440a-af37-0aa8db3755a9",
   "metadata": {},
   "source": [
    "# END - Next Topic - SQL Agents"
   ]
  }
 ],
 "metadata": {
  "kernelspec": {
   "display_name": "Python 3 (ipykernel)",
   "language": "python",
   "name": "python3"
  },
  "language_info": {
   "codemirror_mode": {
    "name": "ipython",
    "version": 3
   },
   "file_extension": ".py",
   "mimetype": "text/x-python",
   "name": "python",
   "nbconvert_exporter": "python",
   "pygments_lexer": "ipython3",
   "version": "3.11.9"
  }
 },
 "nbformat": 4,
 "nbformat_minor": 5
}
